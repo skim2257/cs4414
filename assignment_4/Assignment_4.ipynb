{
 "cells": [
  {
   "cell_type": "markdown",
   "metadata": {},
   "source": [
    "# Assignment 4\n",
    "\n",
    "### Instructions\n",
    "\n",
    "* Write your code in the cells provided.  Where appropirate, enter markdown to answer questions.\n",
    "\n",
    "* Submit this notebook to owl.\n",
    "\n",
    "---\n"
   ]
  },
  {
   "cell_type": "code",
   "execution_count": 1,
   "metadata": {},
   "outputs": [],
   "source": [
    "# It's dangerous to go alone.  Take these!\n",
    "import pandas as pd\n",
    "import numpy as np\n",
    "import matplotlib.pyplot as plt\n",
    "import seaborn as sns\n",
    "from sklearn.model_selection import train_test_split, cross_val_score\n",
    "from sklearn.linear_model import LinearRegression\n",
    "from sklearn.pipeline import Pipeline\n",
    "from sklearn.preprocessing import StandardScaler, PolynomialFeatures\n",
    "from sklearn.metrics import mean_squared_error, mean_absolute_error\n",
    "pd.set_option('display.max_columns', 500)\n",
    "\n",
    "%matplotlib inline"
   ]
  },
  {
   "cell_type": "markdown",
   "metadata": {},
   "source": [
    "### You're A Data Scientist!\n",
    "You are working as a Junior Data Scientist for a professional football (er, Soccer) club.  The owner of the team is very interested in seeing how the use of data can help improve the team's peformance, and perhaps win them a championship!\n",
    "\n",
    "The draft is coming up soon (thats when you get to pick new players for your team), and the owner has asked you to create a model to help score potential draftees.  The model should look at attributes about the player and predict what their \"rating\" will be once they start playing professionally.\n",
    "\n",
    "The football club's data team has provided you with data for 17,993 footballers from the league.  Your job: work with the Senior Data Scientist to build a model or models, perform model selection, and make predictions on players you have not yet seen.\n",
    "\n",
    "### The Dataset\n",
    "\n",
    "The data is stored in a csv file called `footballer_data.csv`.  The data contain 52 columns, including some information about the player, their skills, and their overall measure as an effective footballer.\n",
    "\n",
    "Most features relate to the player's abilities in football related skills, such as passing, shooting, dribbling, etc.  Some features are rated on a 1-5 scale (5 being the best), others are rated on 0-100 (100 being the best), and others still are categorical (e.g. work rate is coded as low, medium, or high).\n",
    "\n",
    "The target variable (or $y$ variable, if you will) is `overall`.  This is an overall measure of the footballer's skill and is rated from 0 to 100.  The most amazingly skilled footballer would be rated 100, where as I would struggle to score more than a 20. The model(s) you build should use the other features to predict `overall`.\n",
    "\n",
    "\n",
    "\n",
    "### Part A\n",
    "\n",
    "Read in the data and take a look at the dataframe.  There should be 52 columns. The outcome of interest is called `overall` which gives an overall measure of player performance. Not all of the other columns are particularly useful for modelling though (for instance, `ID` is just a unique identifier for the player.  This is essentially an arbitrary number and has no bearing on the player's rating).\n",
    "\n",
    "The Senior Data Scientist thinks the following columns should be removed:\n",
    "\n",
    "* ID\n",
    "* club\n",
    "* club_logo\n",
    "* birth_date\n",
    "* flag\n",
    "* nationality\n",
    "* photo\n",
    "* potential\n",
    "\n",
    "The Senior Data Scientist would also like the following columns converted into dummy variables:\n",
    "\n",
    "* work_rate_att\n",
    "* work_rate_def\n",
    "* preferred_foot\n",
    "\n",
    "Clean the data according to the Senior Data Scientist's instructions."
   ]
  },
  {
   "cell_type": "code",
   "execution_count": 2,
   "metadata": {},
   "outputs": [],
   "source": [
    "football_data_raw = pd.read_csv(\"footballer_data.csv\")\n",
    "\n",
    "# Verifying cols\n",
    "assert(football_data_raw.shape[1] == 52)\n",
    "\n",
    "# Cleaning...\n",
    "football_data = football_data_raw.drop(columns=[\"ID\", \"club\", \"club_logo\", \"birth_date\", \"flag\",\n",
    "                                                \"nationality\", \"photo\", \"potential\"])\n",
    "football_data = pd.get_dummies(football_data, drop_first=True)"
   ]
  },
  {
   "cell_type": "markdown",
   "metadata": {},
   "source": [
    "### Part B\n",
    "\n",
    "The data should all be numerical now. Before we begin modelling, it is important to obtain a baseline for the accuracy of our predictive models. Compute the absolute errors resulting if we use the median of the `overall` variable to make predictions. This will serve as our baseline performance. Plot the distribution of the errors and print their mean and standard deviation."
   ]
  },
  {
   "cell_type": "code",
   "execution_count": 3,
   "metadata": {},
   "outputs": [
    {
     "name": "stdout",
     "output_type": "stream",
     "text": [
      "Mean:\t5.491330443481161\n",
      "SD:\t4.261886186448831\n"
     ]
    },
    {
     "data": {
      "image/png": "[encoded data removed]",
      "text/plain": [
       "<Figure size 432x288 with 1 Axes>"
      ]
     },
     "metadata": {
      "needs_background": "light"
     },
     "output_type": "display_data"
    }
   ],
   "source": [
    "# Calculating absolute errors from median\n",
    "abs_err_med = abs(football_data.overall.values - np.median(football_data.overall.values))\n",
    "print(f\"Mean:\\t{np.mean(abs_err_med)}\\nSD:\\t{np.std(abs_err_med)}\")\n",
    "\n",
    "plt.hist(abs_err_med, bins=15)\n",
    "plt.show()"
   ]
  },
  {
   "cell_type": "markdown",
   "metadata": {},
   "source": [
    "### Part C\n",
    "To prepare the data for modelling, the Senior Data Scientist recomends you use `sklearn.model_selection.train_test_split` to seperate the data into a training set and a test set.\n",
    "\n",
    "The Senior Data Scientist would like to estimate the performance of the final selected model to within +/- 0.25 units using mean absolute error as the loss function of choice.  Decide on an appropriate size for the test set, then use `train_test_split` to split the features and target variables into appropriate sets."
   ]
  },
  {
   "cell_type": "code",
   "execution_count": 4,
   "metadata": {},
   "outputs": [],
   "source": [
    "X_data = football_data.drop(columns=[\"overall\"])\n",
    "y_data = football_data.overall\n",
    "\n",
    "# Computing SD of l_i=l(y_bar, y_i) to estimate SD of l()\n",
    "# We will use a 95% CI with d=0.25 to estimate the value of n\n",
    "std_err = np.std(abs(y_data.values - np.mean(y_data.values)))\n",
    "num_samples = int(np.ceil((1.96 * std_err / 0.25) ** 2))\n",
    "\n",
    "# Splitting data into four sets\n",
    "X_train, X_test, y_train, y_test = train_test_split(X_data, y_data, test_size=num_samples)"
   ]
  },
  {
   "cell_type": "markdown",
   "metadata": {},
   "source": [
    "### Part D\n",
    "\n",
    "The Senior Data Scientist wants you to fit a linear regression to the data as a first model.  Use sklearn to build a model pipeline which fits a linear regression to the data. (This will be a very simple, one-step pipeline but we will expand it later.) You can read up on sklearn pipelines [here](https://scikit-learn.org/stable/modules/generated/sklearn.pipeline.Pipeline.html). Note that the sklearn linear regression adds its own intercept so you don't need to create a column of 1s."
   ]
  },
  {
   "cell_type": "code",
   "execution_count": 5,
   "metadata": {},
   "outputs": [
    {
     "name": "stdout",
     "output_type": "stream",
     "text": [
      "Training loss:\t1.8949542666879438\n"
     ]
    }
   ],
   "source": [
    "# Fit linear model with training data\n",
    "linear_model = Pipeline([('linear', LinearRegression())])\n",
    "linear_model.fit(X_train, y_train)\n",
    "\n",
    "# Checking training loss\n",
    "lin_trainloss = np.mean(abs(linear_model.predict(X_train) - y_train))\n",
    "print(f\"Training loss:\\t{lin_trainloss}\")"
   ]
  },
  {
   "cell_type": "markdown",
   "metadata": {},
   "source": [
    "## Part E\n",
    "\n",
    "The senior data scientist wants a report of this model's cross validation score.  Use 5 fold cross validation to estimate the out of sample performance for this model.  You may find sklearn's `cross_val_score` useful."
   ]
  },
  {
   "cell_type": "code",
   "execution_count": 6,
   "metadata": {},
   "outputs": [
    {
     "name": "stdout",
     "output_type": "stream",
     "text": [
      "CV scores:\t[1.95035316 1.88567317 1.84963198 1.90334029 1.91163095]\n",
      "Est. CV loss:\t1.9001259102636407\n"
     ]
    }
   ],
   "source": [
    "# Importing this function as per Lab 4\n",
    "from sklearn.metrics import make_scorer\n",
    "\n",
    "lin_cv_scores = cross_val_score(linear_model, X_train, y_train,\n",
    "                                cv=5, scoring=make_scorer(mean_absolute_error))\n",
    "\n",
    "print(f\"CV scores:\\t{lin_cv_scores}\\nEst. CV loss:\\t{np.mean(lin_cv_scores)}\")"
   ]
  },
  {
   "cell_type": "markdown",
   "metadata": {},
   "source": [
    "### Part F\n",
    "\n",
    "That's impressive!  Your model seems to be very accurate, but now the Senior Data Scientist wants to try and make it more accurate.  Scouts have shared with the Senior Data Scientist that players hit their prime in their late 20s, and as they age they become worse overall.\n",
    "\n",
    "The Senior Data Scientist wants to add a quadratic term for age to the model.  Repeat the steps above (creating a pipeline, validating the model, etc) for a model which includes a quadratic term for age."
   ]
  },
  {
   "cell_type": "code",
   "execution_count": 7,
   "metadata": {},
   "outputs": [
    {
     "name": "stdout",
     "output_type": "stream",
     "text": [
      "CV scores:\t[1.93323018 1.87782269 1.83449018 1.87464891 1.89155441]\n",
      "Est. CV loss:\t1.882349275086785\n"
     ]
    }
   ],
   "source": [
    "# Copying X_train/test and squaring age columns\n",
    "X_train_q, X_test_q = X_train.copy(), X_test.copy()\n",
    "X_train_q[\"age2\"], X_test_q[\"age2\"] = X_train_q.age ** 2, X_test_q.age ** 2\n",
    "\n",
    "# Apply linear regression\n",
    "quadratic_age_model = Pipeline([('quad_age', LinearRegression())])\n",
    "quadratic_age_model.fit(X_train_q, y_train)\n",
    "\n",
    "quad_cv_scores = cross_val_score(quadratic_age_model, X_train_q, y_train,\n",
    "                                 cv=5, scoring=make_scorer(mean_absolute_error))\n",
    "\n",
    "print(f\"CV scores:\\t{quad_cv_scores}\\nEst. CV loss:\\t{np.mean(quad_cv_scores)}\")"
   ]
  },
  {
   "cell_type": "markdown",
   "metadata": {},
   "source": [
    "### Part G\n",
    "\n",
    "\n",
    "The Senior Data Scientist isn't too happy that the quadratic term has not improved the fit of the model much and now wants to include quadratic and interaction term for every feature (That's a total of 1080 features!!!!)\n",
    "\n",
    "Add sklearn's `PolynomialFeatures` to your pipeline from part C.  Report the cross validation score."
   ]
  },
  {
   "cell_type": "code",
   "execution_count": 8,
   "metadata": {},
   "outputs": [
    {
     "name": "stdout",
     "output_type": "stream",
     "text": [
      "CV scores:\t[0.88534307 0.87429835 0.89091475 0.88445949 0.90283141]\n",
      "Est. CV loss:\t0.8875694147560041\n"
     ]
    }
   ],
   "source": [
    "interaction_model = Pipeline([('poly', PolynomialFeatures(include_bias=False)),\n",
    "                              ('linear', LinearRegression())\n",
    "                             ])\n",
    "\n",
    "interaction_model.fit(X_train, y_train)\n",
    "int_cv_scores = cross_val_score(interaction_model, X_train, y_train,\n",
    "                                cv=5, scoring=make_scorer(mean_absolute_error))\n",
    "\n",
    "print(f\"CV scores:\\t{int_cv_scores}\\nEst. CV loss:\\t{np.mean(int_cv_scores)}\")"
   ]
  },
  {
   "cell_type": "markdown",
   "metadata": {},
   "source": [
    "### Part H\n",
    "\n",
    "The Senior Data Scientist is really happy with the results of adding every interaction into the model and wants to explore third order interactions (that is adding cubic terms to the model).\n",
    "\n",
    "This is not a good idea!  Talk them down from the ledge.  Write them an email in the cell below explaining what could happen if you add too may interactions.\n",
    "\n",
    "---"
   ]
  },
  {
   "cell_type": "markdown",
   "metadata": {},
   "source": [
    "Hey Boss,\n",
    "\n",
    "I got your email about adding cubic terms to the model. I think that this is a step in the wrong direction\n",
    "\n",
    "Sincerly,\n",
    "Junior Data Scientist"
   ]
  },
  {
   "cell_type": "markdown",
   "metadata": {},
   "source": [
    "### Part I\n",
    "\n",
    "You've successfully talked the Senior Data Scientist out of adding cubic terms to the model. Good job!\n",
    "\n",
    "Based on the cross validation scores, which model would you choose?  Estimate the performance of your chosen model on the test data you held out, and do the following:\n",
    "\n",
    "- Compute a point estimate for the generalization error.\n",
    "- Compute a confidence interval for the generalization error.  \n",
    "- Plot the distribution of the absolute errors.\n",
    "\n",
    "Is the test error close to the cross validation error of the model you chose? Why do you think this is the case?\n"
   ]
  },
  {
   "cell_type": "code",
   "execution_count": 9,
   "metadata": {},
   "outputs": [
    {
     "name": "stdout",
     "output_type": "stream",
     "text": [
      "Generalization error PE:\t0.8551663244366149\n",
      "Generalization error CI:\t[0.810218937674563, 0.9001137111986668]\n"
     ]
    },
    {
     "data": {
      "image/png": "[encoded data removed]",
      "text/plain": [
       "<Figure size 432x288 with 1 Axes>"
      ]
     },
     "metadata": {
      "needs_background": "light"
     },
     "output_type": "display_data"
    }
   ],
   "source": [
    "# Computing point estimate\n",
    "abs_errors = abs(interaction_model.predict(X_test) - y_test).values\n",
    "gen_error = np.mean(abs_errors)\n",
    "print(f\"Generalization error PE:\\t{gen_error}\")\n",
    "\n",
    "# Computing 95% CI\n",
    "from scipy.stats import t\n",
    "standard_error = np.std(abs_errors) / np.sqrt(np.size(abs_errors))\n",
    "bounds = np.array([gen_error - (t.ppf(0.975, np.size(abs_errors) - 1) * standard_error),\n",
    "                   gen_error + (t.ppf(0.975, np.size(abs_errors) - 1) * standard_error)])\n",
    "print(f\"Generalization error CI:\\t[{bounds[0]}, {bounds[1]}]\")\n",
    "\n",
    "# Abs. error distribution\n",
    "plt.hist(abs_errors, bins=20)\n",
    "plt.show()"
   ]
  },
  {
   "cell_type": "code",
   "execution_count": null,
   "metadata": {},
   "outputs": [],
   "source": []
  }
 ],
 "metadata": {
  "kernelspec": {
   "display_name": "Python 3",
   "language": "python",
   "name": "python3"
  },
  "language_info": {
   "codemirror_mode": {
    "name": "ipython",
    "version": 3
   },
   "file_extension": ".py",
   "mimetype": "text/x-python",
   "name": "python",
   "nbconvert_exporter": "python",
   "pygments_lexer": "ipython3",
   "version": "3.6.8"
  }
 },
 "nbformat": 4,
 "nbformat_minor": 4
}
